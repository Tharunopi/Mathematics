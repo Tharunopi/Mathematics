{
 "cells": [
  {
   "cell_type": "code",
   "execution_count": 1,
   "id": "bed24a97-0009-49c1-8051-9148910d7481",
   "metadata": {},
   "outputs": [],
   "source": [
    "import numpy as np"
   ]
  },
  {
   "cell_type": "code",
   "execution_count": 3,
   "id": "6a794e42-ba74-4575-afe9-f90093fd5687",
   "metadata": {},
   "outputs": [],
   "source": [
    "coeff = [-1, 12, -46, 56]\n",
    "\n",
    "g = np.roots(coeff)"
   ]
  },
  {
   "cell_type": "code",
   "execution_count": 9,
   "id": "723fae15-20d7-4b24-a851-76bf72c45874",
   "metadata": {},
   "outputs": [
    {
     "name": "stdout",
     "output_type": "stream",
     "text": [
      "5.414213562373082\n",
      "4.000000000000021\n",
      "2.5857864376268958\n"
     ]
    }
   ],
   "source": [
    "for i in g:\n",
    "    print(i)"
   ]
  },
  {
   "cell_type": "code",
   "execution_count": 15,
   "id": "181e69cc-b1e2-47fd-822b-6342f7d1ce5d",
   "metadata": {},
   "outputs": [
    {
     "data": {
      "text/plain": [
       "array([ 3.09791167+0.78500326j,  3.09791167-0.78500326j,\n",
       "       -0.19582335+0.j        ])"
      ]
     },
     "execution_count": 15,
     "metadata": {},
     "output_type": "execute_result"
    }
   ],
   "source": [
    "sec = np.roots([-1, 6, -9, -2])\n",
    "sec"
   ]
  },
  {
   "cell_type": "code",
   "execution_count": null,
   "id": "9039a1f6-5983-4f0d-8e0a-baff55a595e5",
   "metadata": {},
   "outputs": [],
   "source": []
  }
 ],
 "metadata": {
  "kernelspec": {
   "display_name": "Python 3 (ipykernel)",
   "language": "python",
   "name": "python3"
  },
  "language_info": {
   "codemirror_mode": {
    "name": "ipython",
    "version": 3
   },
   "file_extension": ".py",
   "mimetype": "text/x-python",
   "name": "python",
   "nbconvert_exporter": "python",
   "pygments_lexer": "ipython3",
   "version": "3.11.4"
  }
 },
 "nbformat": 4,
 "nbformat_minor": 5
}
