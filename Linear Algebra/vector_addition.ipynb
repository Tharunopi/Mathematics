{
 "cells": [
  {
   "cell_type": "code",
   "execution_count": 1,
   "id": "13673746-f869-4f5d-991c-d79f87c519e2",
   "metadata": {},
   "outputs": [],
   "source": [
    "import matplotlib.pyplot as plt"
   ]
  },
  {
   "cell_type": "code",
   "execution_count": 7,
   "id": "ab32e9dc-5af4-4a1e-9db9-94b954499427",
   "metadata": {},
   "outputs": [
    {
     "name": "stdout",
     "output_type": "stream",
     "text": [
      "[-5, 10]\n"
     ]
    }
   ],
   "source": [
    "def vector_add(a, b):\n",
    "    if len(a) != len(b):\n",
    "        return print('invaild length!!')\n",
    "\n",
    "    result = [a[i]+b[i] for i in range(len(a))]\n",
    "    return print(result)\n",
    "\n",
    "\n",
    "a = [-1, 3]\n",
    "b = [-4, 7]\n",
    "vector_add(a, b)"
   ]
  },
  {
   "cell_type": "code",
   "execution_count": 8,
   "id": "8872c879-c452-4990-9ed1-3bae97d722e0",
   "metadata": {},
   "outputs": [
    {
     "name": "stdout",
     "output_type": "stream",
     "text": [
      "[20, 40]\n"
     ]
    }
   ],
   "source": [
    "def scaler_multi(s, v):\n",
    "    result = [i*s for i in v]\n",
    "    return print(result)\n",
    "\n",
    "v = [2, 4]\n",
    "s = 10\n",
    "scaler_multi(s, v)"
   ]
  },
  {
   "cell_type": "code",
   "execution_count": 35,
   "id": "d796d183-e6e4-4f41-9a74-b8f75b2ae373",
   "metadata": {},
   "outputs": [
    {
     "name": "stdout",
     "output_type": "stream",
     "text": [
      "2 -100\n"
     ]
    },
    {
     "data": {
      "image/png": "[encoded data removed]",
      "text/plain": [
       "<Figure size 640x480 with 1 Axes>"
      ]
     },
     "metadata": {},
     "output_type": "display_data"
    }
   ],
   "source": [
    "def line_arrow(a):\n",
    "    plt.quiver(0, 0, a[0], a[1], scale=1, angles='xy', scale_units='xy', color=\"red\")\n",
    "\n",
    "def plot_vector(a):\n",
    "    ma = -100\n",
    "    mi = 100\n",
    "    \n",
    "    for i in range(len(a)):\n",
    "        line_arrow(a[i])\n",
    "        if max(a[i]) > ma:\n",
    "            ma = max(a[i])\n",
    "        if min(a[i]) < mi:\n",
    "            mi = min(a[i])\n",
    "\n",
    "    print(ma, mi)\n",
    "    plt.xlim([mi, ma])\n",
    "    plt.ylim([mi, ma])\n",
    "\n",
    "    plt.grid()\n",
    "    plt.show()\n",
    "    \n",
    "d = [\n",
    "        [-100, 2]\n",
    "    ]\n",
    "plot_vector(d)"
   ]
  },
  {
   "cell_type": "code",
   "execution_count": null,
   "id": "0bdb3ea5-434c-49b3-9caa-76bff5487a4b",
   "metadata": {},
   "outputs": [],
   "source": []
  }
 ],
 "metadata": {
  "kernelspec": {
   "display_name": "Python 3 (ipykernel)",
   "language": "python",
   "name": "python3"
  },
  "language_info": {
   "codemirror_mode": {
    "name": "ipython",
    "version": 3
   },
   "file_extension": ".py",
   "mimetype": "text/x-python",
   "name": "python",
   "nbconvert_exporter": "python",
   "pygments_lexer": "ipython3",
   "version": "3.11.4"
  }
 },
 "nbformat": 4,
 "nbformat_minor": 5
}
